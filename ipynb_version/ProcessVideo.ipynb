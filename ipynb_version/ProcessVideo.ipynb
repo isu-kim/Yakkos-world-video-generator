{
 "cells": [
  {
   "cell_type": "code",
   "execution_count": 1,
   "id": "c763b880",
   "metadata": {},
   "outputs": [],
   "source": [
    "import pandas as pd\n",
    "import subprocess"
   ]
  },
  {
   "cell_type": "code",
   "execution_count": 2,
   "id": "8a13c635",
   "metadata": {},
   "outputs": [],
   "source": [
    "def generate_workspace():\n",
    "    subprocess.run([\"mkdir\", \"-p\", \"tmp_dir\"])"
   ]
  },
  {
   "cell_type": "code",
   "execution_count": 3,
   "id": "641f6598",
   "metadata": {},
   "outputs": [],
   "source": [
    "import os\n",
    "\n",
    "\n",
    "def cut_video(data:pd.Series, tmp_dir:str):\n",
    "    \"\"\"\n",
    "    A function that cuts video according to pd.Series values.\n",
    "    This function will execute following command using subprocess.\n",
    "    ffmpeg -ss 00:01:00 -to 00:02:00  -i input.mp4 -c copy output.mp4\n",
    "    \n",
    "    :param data: a pandas.Series that represents the data of current video clip\n",
    "    :param tmp_dir: a string that reprsents tmp_dir\n",
    "    \"\"\"\n",
    "    start_str = data['start']\n",
    "    end_str = data['end']\n",
    "    country_name = data['name']\n",
    "    save_name = data['save_name']\n",
    "    out_file_name = os.path.join(tmp_dir, save_name)\n",
    "    subprocess.run([\n",
    "        \"ffmpeg\", \"-ss\", start_str, \"-to\",end_str, \"-i\", \n",
    "        \"../OriginalVideo.mp4\",\"-c\", \"copy\", out_file_name, \"-y\"], \n",
    "        stdout=subprocess.DEVNULL,\n",
    "        stderr=subprocess.STDOUT)"
   ]
  },
  {
   "cell_type": "code",
   "execution_count": 16,
   "id": "0cc3c291",
   "metadata": {},
   "outputs": [],
   "source": [
    "def change_video_speed(video_name:str, speed:float):\n",
    "    \"\"\"\n",
    "    A function that changes video speed into designated speed.\n",
    "    This will generate a video with %03ds.mp4.\n",
    "    Example, if input.mp4 was processed, it will generate output.mp4.\n",
    "    \n",
    "    This function will execute following command using subprocess.\n",
    "    ffmpeg -i Break0.mp4 -vf \"setpts=(PTS-STARTPTS)/2.5\" -af atempo=2.5 a.mp4\n",
    "\n",
    "    :param video_name: a string that represents video's name to process.\n",
    "    :param speed: a float value that represents how fast the video should go.\n",
    "    \"\"\"\n",
    "    subprocess.run([\n",
    "        \"ffmpeg\",\n",
    "        \"-i\",\n",
    "        video_name,\n",
    "        \"-vf\",\n",
    "        \"setpts=(PTS-STARTPTS)/%f\" % speed,\n",
    "        \"-af\",\n",
    "        \"atempo=%f\" %speed,\n",
    "        video_name.replace(\".mp4\", \"s.mp4\"),\n",
    "        \"-y\"],\n",
    "        stdout=subprocess.DEVNULL,\n",
    "        stderr=subprocess.STDOUT)"
   ]
  },
  {
   "cell_type": "code",
   "execution_count": 6,
   "id": "fccbb35a",
   "metadata": {},
   "outputs": [],
   "source": [
    "def add_caption(video_name:str, country_name:str, value:str, \n",
    "                font_dir:str, font_color:str, font_size:int,\n",
    "                box_enabled:bool, box_opacity:float, box_color:str, \n",
    "                text_position:tuple):\n",
    "    text = country_name + \" : \" + value\n",
    "    subprocess.run([\n",
    "        \"ffmpeg\",\n",
    "        \"-i\",\n",
    "        video_name,\n",
    "        \"-vf\",\n",
    "        \"\\\"drawtext=fontfile=/%s:text='%s':fontcolor=white:fontsize=%d:box=%d:boxcolor=%s@0.5:boxborderw=5:x=(w-text_w)/2:y=(h-text_h)/2\\\"\" % (font_dir, text, font_color, font_size, box_enabled, box_color, box_\n",
    "        \"-codec:a\",\n",
    "        \"copy\",\n",
    "        video_name.replace(\"s.mp4\", \"f.mp4\"),\n",
    "        \"-y\"\n",
    "    ])"
   ]
  },
  {
   "cell_type": "code",
   "execution_count": 9,
   "id": "d8ef4323",
   "metadata": {},
   "outputs": [],
   "source": [
    "if __name__ == \"__main__\":\n",
    "    generate_workspace()\n",
    "    tmp_dir = os.path.join(os.getcwd(), \"tmp_dir\")\n",
    "    audio_dir = os.path.join(tmp_dir, \"audio\")\n",
    "    data = pd.read_csv(\"../time_data.csv\")\n",
    "    cut_video(data.loc[0], tmp_dir)\n",
    "    change_video_speed(os.path.join(tmp_dir, data.loc[0]['save_name']), 2)"
   ]
  },
  {
   "cell_type": "code",
   "execution_count": 1,
   "id": "baf8d705",
   "metadata": {
    "scrolled": true
   },
   "outputs": [
    {
     "data": {
      "text/html": [
       "<video src=\"./tmp_dir/000s.mp4\" controls  >\n",
       "      Your browser does not support the <code>video</code> element.\n",
       "    </video>"
      ],
      "text/plain": [
       "<IPython.core.display.Video object>"
      ]
     },
     "execution_count": 1,
     "metadata": {},
     "output_type": "execute_result"
    }
   ],
   "source": [
    "from IPython.display import Video\n",
    "\n",
    "Video(\"./tmp_dir/000s.mp4\")"
   ]
  },
  {
   "cell_type": "code",
   "execution_count": null,
   "id": "39ec1ae9",
   "metadata": {},
   "outputs": [],
   "source": [
    "add_caption(\"./tmp_dir/000s.mp4\", \"break\", \"109999\", \"../fonts/comic.ttf\", )"
   ]
  },
  {
   "cell_type": "code",
   "execution_count": 4,
   "id": "65e7f79b",
   "metadata": {},
   "outputs": [
    {
     "data": {
      "text/html": [
       "<video src=\"./tmp_dir/000f.mp4\" controls  >\n",
       "      Your browser does not support the <code>video</code> element.\n",
       "    </video>"
      ],
      "text/plain": [
       "<IPython.core.display.Video object>"
      ]
     },
     "execution_count": 4,
     "metadata": {},
     "output_type": "execute_result"
    }
   ],
   "source": [
    "Video(\"./tmp_dir/000f.mp4\")"
   ]
  },
  {
   "cell_type": "code",
   "execution_count": null,
   "id": "f0b2c29e",
   "metadata": {},
   "outputs": [],
   "source": []
  }
 ],
 "metadata": {
  "kernelspec": {
   "display_name": "Python 3 (ipykernel)",
   "language": "python",
   "name": "python3"
  },
  "language_info": {
   "codemirror_mode": {
    "name": "ipython",
    "version": 3
   },
   "file_extension": ".py",
   "mimetype": "text/x-python",
   "name": "python",
   "nbconvert_exporter": "python",
   "pygments_lexer": "ipython3",
   "version": "3.10.4"
  }
 },
 "nbformat": 4,
 "nbformat_minor": 5
}
