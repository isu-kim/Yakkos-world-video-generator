{
 "cells": [
  {
   "cell_type": "code",
   "execution_count": 1,
   "id": "c763b880",
   "metadata": {},
   "outputs": [],
   "source": [
    "import pandas as pd\n",
    "import subprocess"
   ]
  },
  {
   "cell_type": "code",
   "execution_count": 2,
   "id": "8a13c635",
   "metadata": {},
   "outputs": [],
   "source": [
    "def generate_workspace():\n",
    "    subprocess.run([\"mkdir\", \"-p\", \"tmp_dir\"])"
   ]
  },
  {
   "cell_type": "code",
   "execution_count": 3,
   "id": "641f6598",
   "metadata": {},
   "outputs": [],
   "source": [
    "import os\n",
    "\n",
    "\n",
    "def cut_video(data:pd.Series, tmp_dir:str):\n",
    "    \"\"\"\n",
    "    A function that cuts video according to pd.Series values.\n",
    "    This function will execute following command using subprocess.\n",
    "    ffmpeg -ss 00:01:00 -to 00:02:00  -i input.mp4 -c copy output.mp4\n",
    "    \n",
    "    :param data: a pandas.Series that represents the data of current video clip\n",
    "    :param tmp_dir: a string that represents tmp_dir\n",
    "    \"\"\"\n",
    "    start_str = data['start']\n",
    "    end_str = data['end']\n",
    "    country_name = data['name']\n",
    "    save_name = data['save_name']\n",
    "    out_file_name = os.path.join(tmp_dir, save_name)\n",
    "    subprocess.check_output([\n",
    "        \"ffmpeg\", \n",
    "        \"-ss\", \n",
    "        start_str, \n",
    "        \"-to\",\n",
    "        end_str, \n",
    "        \"-i\", \n",
    "        \"../OriginalVideo.mp4\",\n",
    "        \"-c\", \n",
    "        \"copy\", \n",
    "        out_file_name, \"-y\"], \n",
    "        stderr=subprocess.STDOUT)"
   ]
  },
  {
   "cell_type": "code",
   "execution_count": 101,
   "id": "68018633",
   "metadata": {},
   "outputs": [],
   "source": [
    "def change_video_speed(video_name:str, speed:float):\n",
    "    \"\"\"\n",
    "A function that changes video speed into designated speed.\n",
    "    This will generate a video with %03ds.mp4.\n",
    "    Example, if 000.mp4 was processed, it will be saved as 000s.mp4.\n",
    "    \n",
    "    The problem with ffmpeg is that ffmpeg can only go as low as 0.5.\n",
    "    So in order for us to achieve lower speed than 0.5, it means we have to process it multiple times.\n",
    "    For example, we have 0.123 as speed.\n",
    "    \n",
    "    This means the following: 0.123 = 0.5 * 0.5 * 0.5 * 0.984.\n",
    "    So, we need to make the video clip go 0.5, then that video clip goes 0.5, and ...\n",
    "    \n",
    "    This function will execute following command using subprocess.\n",
    "    ffmpeg -i Break0.mp4 -vf \"setpts=(PTS-STARTPTS)/2.5\" -af atempo=2.5 a.mp4\n",
    "\n",
    "    :param video_name: a string that represents video's name to process.\n",
    "    :param speed: a float value that represents how fast the video should go.\n",
    "    \"\"\"\n",
    "    if speed < 0.5:  # if speed was 0.5, we need to slow it multiple times\n",
    "        cur_speed = speed\n",
    "        multiplier_list = list()  # for storing all elements for making the wanted speed\n",
    "        while (cur_speed < 0.5):\n",
    "            cur_speed = cur_speed / 0.5\n",
    "            multiplier_list.append(0.5)\n",
    "        multiplier_list.append(cur_speed)         \n",
    "        # The formula will be like this\n",
    "        # 1. Make 0.5 times slower and name it s_0.mp4\n",
    "        # 2. s_i would be s_i-1 slowed in the speed_i\n",
    "        # 3. Iterate it over and over\n",
    "        \n",
    "        operation_count = 0  # count operations\n",
    "        # Make s_0.mp4 from original video\n",
    "        subprocess.check_output([\n",
    "                \"ffmpeg\",\n",
    "                \"-i\",\n",
    "                video_name,\n",
    "                \"-vf\",\n",
    "                \"setpts=(PTS-STARTPTS)/%f\" % 0.5,\n",
    "                \"-af\",\n",
    "                \"atempo=%f\" % 0.5,\n",
    "                video_name.replace(\".mp4\", \"s_0.mp4\"),\n",
    "                \"-y\"],\n",
    "                stderr=subprocess.STDOUT)\n",
    "        operation_count += 1\n",
    "        \n",
    "        for speed in multiplier_list[1:]:  # iterate and slow s_i-1 \n",
    "            subprocess.check_output([\n",
    "            \"ffmpeg\",\n",
    "            \"-i\",\n",
    "            video_name.replace(\".mp4\", \"s_%d.mp4\" % (operation_count - 1)),\n",
    "            \"-vf\",\n",
    "            \"setpts=(PTS-STARTPTS)/%f\" % speed,\n",
    "            \"-af\",\n",
    "            \"atempo=%f\" % speed,\n",
    "            video_name.replace(\".mp4\", \"s_%d.mp4\" % operation_count),\n",
    "            \"-y\"],\n",
    "            stderr=subprocess.STDOUT)\n",
    "            operation_count += 1\n",
    "            # When done slowing, delete the old version s_i-1\n",
    "            #os.remove(video_name.replace(\".mp4\", \"s_%d.mp4\" % (operation_count - 1)))\n",
    "        # Save the final video as s.mp4\n",
    "        os.rename(video_name.replace(\".mp4\", \"s_%d.mp4\" % (operation_count - 1)), video_name.replace(\".mp4\", \"s.mp4\"))\n",
    "    else:  # if speed was faster than 0.5, just apply the speed\n",
    "        subprocess.check_output([\n",
    "        \"ffmpeg\",\n",
    "        \"-i\",\n",
    "        video_name,\n",
    "        \"-vf\",\n",
    "        \"setpts=(PTS-STARTPTS)/%f\" % speed,\n",
    "        \"-af\",\n",
    "        \"atempo=%f\" %speed,\n",
    "        video_name.replace(\".mp4\", \"s.mp4\"),\n",
    "        \"-y\"],\n",
    "        stderr=subprocess.STDOUT)             "
   ]
  },
  {
   "cell_type": "code",
   "execution_count": 103,
   "id": "fccbb35a",
   "metadata": {},
   "outputs": [],
   "source": [
    "def add_caption(video_name:str, country_name:str, value:str, \n",
    "                font_dir:str, font_color:str, font_size:int,\n",
    "                box_enabled:bool, box_opacity:float, box_color:str, box_padding:int,\n",
    "                text_position:tuple):\n",
    "    \"\"\"\n",
    "    A function that adds caption to the video.\n",
    "    This will generate a video with %03df.mp4.\n",
    "    Example, if 000s.mp4 was processed, it will be saved as 000f.mp4.\n",
    "    \n",
    "    This function will execute following command using subprocess.\n",
    "    ffmpeg -i 000s.mp4 -vf \"drawtext=fontfile=/path/to/font.ttf:text='Stack Overflow':fontcolor=white:fontsize=24:box=1:boxcolor=black@0.5:boxborderw=5:x=(w-text_w)/2:y=(h-text_h)/2\" -codec:a copy 000f.mp4\n",
    "\n",
    "    :param video_name: a string that represents video's name to process.\n",
    "    :param country_name: a string that represents country's name.\n",
    "    :param value: a string that represents value of that country.\n",
    "    :param font_dir: a string that represents directory that leads to the font that current caption will be using.\n",
    "    :param font_color: a string that represents color Ex) white.\n",
    "    :param font_size: a int value that represents font size.\n",
    "    :param box_enabled: a boolean that represents whether or not to use text boxes.\n",
    "    :param box_opacity: a float that sets box's opacity: 0 means it is it is not transparent at all.\n",
    "    :param box_color: a string that represents box's color.\n",
    "    :param box_padding: a string that adds padding to the text box.\n",
    "    :param text_position: a tuple of text that represents where to locate texts.\n",
    "    \"\"\"\n",
    "    text = country_name + \"  \" + value\n",
    "    text_position_x = \"\"\n",
    "    text_position_y = \"\"\n",
    "    \n",
    "    # set text_position_x using three options\n",
    "    if text_position[0] == \"center\":  # when x position was center\n",
    "        text_position_x = \"(w-text_w)/2\"  \n",
    "    elif text_position[0] == \"left\":  # when x position was left\n",
    "        text_position_x = \"(%d)\" % box_padding      \n",
    "    elif text_position[0] == \"right\":  # when x position was right\n",
    "        text_position_x = \"(w-text_w-%d)\" % box_padding\n",
    "    else:  # if value was other than this, raise ValueError\n",
    "        raise ValueError\n",
    "    \n",
    "    # set text_position_y using three options\n",
    "    if text_position[1] == \"center\":  # when y position was center\n",
    "        text_position_y = \"(h-text_h)/2\"\n",
    "    elif text_position[1] == \"up\":  # when y position was up\n",
    "        text_position_y = \"(%d)\" % box_padding\n",
    "    elif text_position[1] == \"down\":  # when y position was down\n",
    "        text_position_y = \"(h-text_h-%d)\" % box_padding\n",
    "    else:  # if value was other than this, raise ValueError\n",
    "        raise ValueError\n",
    "    \n",
    "    subprocess.check_output([\n",
    "        \"ffmpeg\",\n",
    "        \"-i\",\n",
    "        video_name,\n",
    "        \"-vf\",\n",
    "        \"drawtext=fontfile=/%s:text='%s':fontcolor=%s:fontsize=%d:box=%d:boxcolor=%s@%f:boxborderw=5:x=%s:y=%s\" \n",
    "        % (font_dir, text, font_color, font_size, box_enabled, box_color, box_opacity, text_position_x, text_position_y),\n",
    "        \"-codec:a\",\n",
    "        \"copy\",\n",
    "        video_name.replace(\"s.mp4\", \"f.mp4\"),\n",
    "        \"-y\"],\n",
    "        stderr=subprocess.STDOUT)"
   ]
  },
  {
   "cell_type": "code",
   "execution_count": 104,
   "id": "e7916e05",
   "metadata": {},
   "outputs": [],
   "source": [
    "def calculate_play_speed(cur_value, avg, bigger_the_faster:bool):\n",
    "    \"\"\"\n",
    "    A simple function that calculates playspeed of current segment of the video.\n",
    "    This will range speed from 0.xx to 2.0\n",
    "    :param cur_value: the current value of this segment\n",
    "    :param avg: the average value of total segments\n",
    "    :param bigger_the_faster: if true it will be bigger the faster\n",
    "    \"\"\"\n",
    "    return  (1 + (-1) ** (not bigger_the_faster) * ((cur_value - avg) / avg))"
   ]
  },
  {
   "cell_type": "code",
   "execution_count": 105,
   "id": "c87f7da2",
   "metadata": {},
   "outputs": [],
   "source": [
    "def process_country(**kwargs):\n",
    "    \"\"\"\n",
    "    A function that process a single country.\n",
    "    This function does following things\n",
    "    1. Cut video clip according to the timings.\n",
    "    2. Calculate playspeed.\n",
    "    3. Set playspeed into the video.\n",
    "    4. Add caption.\n",
    "    :param data: a pandas.Series that represents the data of current video clip\n",
    "    :param cur_value: value that representes current country's value\n",
    "    :param playspeed: value that represents manual playspeed\n",
    "    :param tmp_dir: a string that represents tmp_dir\n",
    "    :param auto_calculate_speed: a boolean that decides whether or not to calculate speed.\n",
    "    :param bigger_the_faster: a boolean that decides bigger the faster for playspeed calculation\n",
    "    :param avg: a value that is for average of all countries.\n",
    "    :param font_dir: a string that represents directory that leads to the font that current caption will be using.\n",
    "    :param font_color: a string that represents color Ex) white.\n",
    "    :param font_size: a int value that represents font's size.\n",
    "    :param box_enabled: a boolean that represents whether or not to use text boxes.\n",
    "    :param box_opacity: a float that sets box's opacity: 0 means it is it is not transparent at all.\n",
    "    :param box_color: a string that represents box's color.\n",
    "    :param box_padding: a string that adds padding to the text box.\n",
    "    :param text_position: a tuple of text that represents where to locate texts.\n",
    "    \"\"\"\n",
    "    data = kwargs['data']\n",
    "    cur_value = kwargs['cur_value']\n",
    "    playspeed = kwargs['playspeed']\n",
    "    \n",
    "    tmp_dir = kwargs['tmp_dir']\n",
    "    auto_calculate_speed = kwargs['auto_calculate_speed']\n",
    "    bigger_the_faster = kwargs['bigger_the_faster']\n",
    "    avg = kwargs['avg']\n",
    "    font_dir = kwargs['font_dir']\n",
    "    font_color = kwargs['font_color']\n",
    "    font_size = kwargs['font_size']\n",
    "    box_enabled = kwargs['box_enabled']\n",
    "    box_opacity = kwargs['box_opacity']\n",
    "    box_color = kwargs['box_color']\n",
    "    box_padding = kwargs['box_padding']\n",
    "    text_position = kwargs['text_position']\n",
    "    \n",
    "    out_file_name = os.path.join(tmp_dir, data['save_name'])\n",
    "    \n",
    "    print(\"[+] Processing \" + data['name'])\n",
    "    \n",
    "    if (playspeed == -1):  # if playspeed was -1, this will skip current country\n",
    "        print(\"[+] Skipping \" + data['name'])\n",
    "        return\n",
    "    else:\n",
    "        cut_video(data, tmp_dir)\n",
    "        if auto_calculate_speed:\n",
    "            playspeed = calculate_play_speed(cur_value, avg, bigger_the_faster)\n",
    "\n",
    "        change_video_speed(out_file_name, playspeed)\n",
    "        add_caption(video_name=out_file_name.replace(\".mp4\", \"s.mp4\"), \n",
    "                    country_name=data['name'], value=str(cur_value), \n",
    "                    font_dir=font_dir, font_color=font_color, font_size=font_size, \n",
    "                    box_enabled=box_enabled, box_opacity=box_opacity, box_color=box_color, box_padding=box_padding, \n",
    "                    text_position=text_position)"
   ]
  },
  {
   "cell_type": "code",
   "execution_count": 106,
   "id": "1c229b15",
   "metadata": {},
   "outputs": [],
   "source": [
    "def process_all(**kwargs):\n",
    "    \"\"\"\n",
    "    :param data: a pandas.Series that represents the data of current video clip\n",
    "    :param cur_value: value that representes current country's value\n",
    "    :param tmp_dir: a string that represents tmp_dir\n",
    "    :param bigger_the_faster: a boolean that decides bigger the faster for playspeed calculation\n",
    "    :param avg: a value that is for average of all countries.\n",
    "    :param font_dir: a string that represents directory that leads to the font that current caption will be using.\n",
    "    :param font_color: a string that represents color Ex) white.\n",
    "    :param font_size: a int value that represents font's size.\n",
    "    :param box_enabled: a boolean that represents whether or not to use text boxes.\n",
    "    :param box_opacity: a float that sets box's opacity: 0 means it is it is not transparent at all.\n",
    "    :param box_color: a string that represents box's color.\n",
    "    :param box_padding: a string that adds padding to the text box.\n",
    "    :param text_position: a tuple of text that represents where to locate texts.\n",
    "    \"\"\""
   ]
  },
  {
   "cell_type": "code",
   "execution_count": 107,
   "id": "d8ef4323",
   "metadata": {},
   "outputs": [
    {
     "name": "stdout",
     "output_type": "stream",
     "text": [
      "[+] Processing United States\n",
      "[0.5, 0.5, 0.5, 0.984]\n"
     ]
    }
   ],
   "source": [
    "if __name__ == \"__main__\":\n",
    "    generate_workspace()\n",
    "    tmp_dir = os.path.join(os.getcwd(), \"tmp_dir\")\n",
    "    audio_dir = os.path.join(tmp_dir, \"audio\")\n",
    "    data = pd.read_csv(\"../time_data.csv\")\n",
    "    process_country(data=data.loc[1], cur_value=2, playspeed=0.123, tmp_dir=tmp_dir, auto_calculate_speed=False, bigger_the_faster=True, avg=1, font_dir=\"../fonts/comic.ttf\",\n",
    "                    font_color=\"white\", font_size=40, box_enabled=True, box_opacity=0.5, box_color=\"black\", box_padding=10, text_position=('left', 'down'))"
   ]
  },
  {
   "cell_type": "code",
   "execution_count": 108,
   "id": "baf8d705",
   "metadata": {
    "scrolled": false
   },
   "outputs": [
    {
     "data": {
      "text/html": [
       "<video src=\"./tmp_dir/001f.mp4\" controls  >\n",
       "      Your browser does not support the <code>video</code> element.\n",
       "    </video>"
      ],
      "text/plain": [
       "<IPython.core.display.Video object>"
      ]
     },
     "execution_count": 108,
     "metadata": {},
     "output_type": "execute_result"
    }
   ],
   "source": [
    "from IPython.display import Video\n",
    "\n",
    "Video(\"./tmp_dir/001f.mp4\")"
   ]
  },
  {
   "cell_type": "code",
   "execution_count": 9,
   "id": "65e7f79b",
   "metadata": {},
   "outputs": [
    {
     "data": {
      "text/html": [
       "<video src=\"./tmp_dir/000f.mp4\" controls  >\n",
       "      Your browser does not support the <code>video</code> element.\n",
       "    </video>"
      ],
      "text/plain": [
       "<IPython.core.display.Video object>"
      ]
     },
     "execution_count": 9,
     "metadata": {},
     "output_type": "execute_result"
    }
   ],
   "source": [
    "Video(\"./tmp_dir/000f.mp4\")"
   ]
  },
  {
   "cell_type": "code",
   "execution_count": null,
   "id": "f0b2c29e",
   "metadata": {},
   "outputs": [],
   "source": []
  },
  {
   "cell_type": "code",
   "execution_count": null,
   "id": "32ca7e3c",
   "metadata": {},
   "outputs": [],
   "source": []
  }
 ],
 "metadata": {
  "kernelspec": {
   "display_name": "Python 3 (ipykernel)",
   "language": "python",
   "name": "python3"
  },
  "language_info": {
   "codemirror_mode": {
    "name": "ipython",
    "version": 3
   },
   "file_extension": ".py",
   "mimetype": "text/x-python",
   "name": "python",
   "nbconvert_exporter": "python",
   "pygments_lexer": "ipython3",
   "version": "3.10.4"
  }
 },
 "nbformat": 4,
 "nbformat_minor": 5
}
